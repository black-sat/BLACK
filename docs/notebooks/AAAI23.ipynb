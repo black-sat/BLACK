{
  "cells": [
    {
      "cell_type": "markdown",
      "metadata": {
        "id": "i0CMoJ16m3Kx"
      },
      "source": [
        "# Hands-on with the BLACK satisfiability checker\n",
        "\n",
        "Welcome to our AAAI-23 lab session on BLACK (https://www.black-sat.org), a satisfiability checker and temporal reasoning tool for *Linear&nbsp;Temporal&nbsp;Logic*&nbsp;(LTL) and related formalisms.\n",
        "\n",
        "This Colab Notebook will guide you through the activities of this lab, introducing to the usage of BLACK's tool and its Python API.\n",
        "\n",
        "But first... we need to install BLACK in the Notebook's environment. \n",
        "To do it, run the following code block before proceeding."
      ]
    },
    {
      "cell_type": "code",
      "execution_count": null,
      "metadata": {
        "id": "WsDu_VLaoJDc"
      },
      "outputs": [],
      "source": [
        "!echo -n Installing BLACK... && wget -q https://www.inf.unibz.it/~gigante/aaai23-black/black-sat-0.9.2-Linux.deb > /dev/null && apt-get update >/dev/null && apt-get install -y ./black-sat-0.9.2-Linux.deb >/dev/null && echo \" Done!\""
      ]
    },
    {
      "cell_type": "markdown",
      "metadata": {
        "id": "kEx-xpK3qcof"
      },
      "source": [
        "Then, if everything worked correctly, the following snippet should be able to import BLACK's Python module."
      ]
    },
    {
      "cell_type": "code",
      "execution_count": null,
      "metadata": {
        "id": "wxbZywSoqii9"
      },
      "outputs": [],
      "source": [
        "from black_sat import *"
      ]
    },
    {
      "cell_type": "markdown",
      "metadata": {
        "id": "f9icuxg-r2VB"
      },
      "source": [
        "Everything's alright, so let's start!"
      ]
    },
    {
      "cell_type": "markdown",
      "metadata": {
        "id": "pOEY7pPRrw9h"
      },
      "source": [
        "# Introduction\n",
        "\n"
      ]
    },
    {
      "cell_type": "markdown",
      "metadata": {
        "id": "MH0EhO1rvXL5"
      },
      "source": [
        "BLACK can be used as a command line tool, or as a *C++* or *Python* API to be embedded in client applications. Here we will learn how to use the command-line interface first, and then we will explore the Python API.\n",
        "\n",
        "Let's first introduce basic concepts.\n",
        "\n",
        "LTL is a formalism to talk about the *truth of facts evolving over time*. \n",
        "\n",
        "An example:\n",
        "\n",
        "$$ p \\land \\mathsf{G} q \\land \\mathsf{F}\\neg p$$\n",
        "\n",
        "This formula describes the evolution of two Boolean facts ($p$ and $q$), over an infinite sequence of *time steps*, or *states*.\n",
        "\n",
        "It says that:\n",
        "\n",
        "1.   At the first step, $p$ must be *true*\n",
        "2.   in every step of the sequence ($\\mathsf{G}$, for *globally*), $q$ must hold ($\\mathsf{G}q$)\n",
        "3.   in some *future* step of the sequence, $p$ must be *false* ($\\mathsf{F}\\neg p$)\n",
        "\n",
        "Now we can ask ourselves some questions:\n",
        "1.   Is there such a sequence, that is, is $\\phi$ *satisfiable*?\n",
        "2.   If $\\phi$ is satisfiable, how does such a sequence look like?\n",
        "\n",
        "We can ask BLACK to answer for us!\n"
      ]
    },
    {
      "cell_type": "markdown",
      "metadata": {
        "id": "ih-L-UhUyv3T"
      },
      "source": [
        "# Command-line interface\n",
        "\n",
        "BLACK can be asked for the satisfiability of an LTL formula from the command line. \n",
        "\n",
        "We can run shell commands in this Notebook by prefixing the commands with `!`."
      ]
    },
    {
      "cell_type": "markdown",
      "metadata": {
        "id": "ZEHiMIhA1ti7"
      },
      "source": [
        "## Basic usage\n",
        "\n",
        "The basic usage is very simple:"
      ]
    },
    {
      "cell_type": "code",
      "execution_count": null,
      "metadata": {
        "id": "cCQ6qM-mzJUb"
      },
      "outputs": [],
      "source": [
        "!black solve -f 'p & G(q) & F(!p)'"
      ]
    },
    {
      "cell_type": "markdown",
      "metadata": {
        "id": "snPSY8QJxiII"
      },
      "source": [
        "BLACK answers `SAT`, meaning that the formula is satisfiable, *i.e.*, there is a sequence (a *model*) satisfying it. \n",
        "\n",
        "The `-f` option tells BLACK that we are giving it the formula from the command line. Without it, it would look for a file name to read the formula from. \n",
        "\n",
        "## Model extraction\n",
        "\n",
        "So a model for the formula exists. How does such a model look like? We can ask BLACK to produce one with the `-m` option:"
      ]
    },
    {
      "cell_type": "code",
      "execution_count": null,
      "metadata": {
        "id": "nZtno7s5zw-5"
      },
      "outputs": [],
      "source": [
        "!black solve -m -f 'p & G(q) & F(!p)'"
      ]
    },
    {
      "cell_type": "markdown",
      "metadata": {
        "id": "oPFqXtYH0OtY"
      },
      "source": [
        "BLACK produces an infinite model, which is however represented finitely by two states, with the second one repeating infinitely. \n",
        "\n",
        "The produced model is one where:\n",
        "1.   In the first step, $p$ and $q$ hold. \n",
        "2.   In the second step, and in all the infinite subsequent ones, $q$ holds but $p$ does not. \n",
        "\n"
      ]
    },
    {
      "cell_type": "markdown",
      "metadata": {
        "id": "W70-GN2KBbB_"
      },
      "source": [
        "## Unsatisfiable formulas\n",
        "\n",
        "Not every formula can be satisfied. Contradictions can result into *unsatisfiable* formulas. For example:\n",
        "\n",
        "$$ \\mathsf{G}(p) \\land \\mathsf{F}(\\neg p) $$\n",
        "\n",
        "This formula is asking for a sequence where:\n",
        "1.   $p$ always holds, and\n",
        "2.   $p$ will eventually be false\n",
        "\n",
        "These are of course contradictory requirements. So BLACK cannot find a model for the formula:"
      ]
    },
    {
      "cell_type": "code",
      "execution_count": null,
      "metadata": {
        "id": "NQEVRy4YB2lR"
      },
      "outputs": [],
      "source": [
        "!black solve -f 'G p & F!p'"
      ]
    },
    {
      "cell_type": "markdown",
      "metadata": {
        "id": "tLKLI2TrCNPo"
      },
      "source": [
        "We'll see later that BLACK can tell us more about unsatisfiable formulas."
      ]
    },
    {
      "cell_type": "markdown",
      "metadata": {
        "id": "mtw6Gcud5D8k"
      },
      "source": [
        "## Other LTL operators\n",
        "\n",
        "LTL has many other *temporal operators* besides $\\mathsf{F}$ and $\\mathsf{G}$. The two most important are:\n",
        "1.   The *tomorrow* operator (*e.g.* $\\mathsf{X}p$) that says that something ($p$) has to happen at the *next* time step.\n",
        "2.   The *until* operator (*e.g.* $p \\mathbin{\\mathsf{U}} q$), a binary operator that says that:\n",
        "      1. its right operand ($q$) will hold in the future, and\n",
        "      2. the left operand ($p$) will continuously hold until that point (excluded)\n",
        "\n",
        "An example formula using those operators is the following:\n",
        "\n",
        "$$ p \\land \\mathsf{X} p \\land (q \\mathbin{\\mathsf{U}} \\neg p)$$\n",
        "\n",
        "Here we are asking $p$ to hold at the first and second state of the sequence, and $\\neg p$ to hold eventually. In every step before $\\neg p$, $q$ must hold.\n",
        "\n",
        "Let's see which model is found by BLACK:"
      ]
    },
    {
      "cell_type": "code",
      "execution_count": null,
      "metadata": {
        "id": "xPQXLpbg6ZcR"
      },
      "outputs": [],
      "source": [
        "!black solve -m -f 'p & X p & (q U !p)'"
      ]
    },
    {
      "cell_type": "markdown",
      "metadata": {
        "id": "WgKSoVlJ6jEM"
      },
      "source": [
        "As expected, the first two states contain both $p$ and $q$, while the third contains $\\neg p$, and is the one that is repeated infinitely for the rest of the model. \n",
        "\n",
        "Note that BLACK introduced $\\neg p$ at the first available time step. That's because BLACK always finds the *shortest* models."
      ]
    },
    {
      "cell_type": "markdown",
      "metadata": {
        "id": "BMajbwdf7cem"
      },
      "source": [
        "## Past operators\n",
        "\n",
        "Sometimes, when planning for the future, it is useful to take inspiration from the past. BLACK supports LTL *past operators*, that are the past counterparts of the *future operators* that we used until now.\n",
        "\n",
        "An example:\n",
        "\n",
        "$$ \\mathsf{F}( p_1 \\to \\mathsf{YO} q_1 \\land p_2 \\to \\mathsf{YO} q_2)$$\n",
        "\n",
        "Here the *once* operator ($\\mathsf{O}$) is the past dual of $\\mathsf{F}$, and the *yesterday* operator ($\\mathsf{Y}$) is the past dual of $\\mathsf{X}$. \n",
        "\n",
        "This formulas says that there is some point in the future, where:\n",
        "1.   if $p_1$ holds, we have seen a $q_1$ before, and\n",
        "2.   if $p_2$ holds, we have seen a $q_2$ before.\n",
        "\n",
        "Let's see what BLACK says about it:"
      ]
    },
    {
      "cell_type": "code",
      "execution_count": null,
      "metadata": {
        "id": "_KzoUGpe-zTq"
      },
      "outputs": [],
      "source": [
        "!black solve -m -f 'F((p_1 -> Y O(q_1)) & (p_2 -> Y O(q_2)))'"
      ]
    },
    {
      "cell_type": "markdown",
      "metadata": {
        "id": "2sz9i3Qs_-FX"
      },
      "source": [
        "That's fine. BLACK found the shortest model, which indeed is the one where neither $p_1$ nor $p_2$ ever hold. Let's try to force at least one of them to happen:"
      ]
    },
    {
      "cell_type": "code",
      "execution_count": null,
      "metadata": {
        "id": "KYnQ6zW_AmQs"
      },
      "outputs": [],
      "source": [
        "!black solve -m -f 'F((p_1 | p_2) & (p_1 -> Y O(q_1)) & (p_2 -> Y O(q_2)))'"
      ]
    },
    {
      "cell_type": "markdown",
      "metadata": {
        "id": "RipxmFIpAnwn"
      },
      "source": [
        "Nice. Of the two possibilities, BLACK chose to realize $p_2$, and therefore $q_2$ before that.\n",
        "\n",
        "Note that writing formulas equivalent to these using *future* operators is possible, but very cumbersome, because we do not know in which *order* $q_1$ and $q_2$ have to happen. \n",
        "\n",
        "So the formula equivalent to the first above using future operators is much bigger: \n",
        "\n",
        "$$ \\mathsf{F}(\\neg p_1 \\land \\neg p_2) \\lor \\mathsf{F}(q_2 \\land \\mathsf{X} \\mathsf{F} \\neg p_1) \\lor \\mathsf{F}(q_1 \\land \\mathsf{X} \\mathsf{F} \\neg p_2) \\lor (\\mathsf{F}q_1 \\land \\mathsf{F}q_2) $$"
      ]
    },
    {
      "cell_type": "markdown",
      "source": [
        "## Finite traces\n",
        "\n",
        "In the AI community, LTL is often interpreted over *finite traces*, and called LTLf in this case.\n",
        "\n",
        "LTLf has the same syntax of LTL but the models are finite sequences.\n",
        "\n",
        "This often changes the meaning of formulas. For example:\n",
        "\n",
        "$$ \\mathsf{G}(\\mathsf{X} p) $$\n",
        "\n",
        "This formula is equivalent to $\\mathsf{X}(\\mathsf{G} p)$ in LTL, which is satisfiable, but it is *unsatisfiable* in LTLf, because the *tomorrow* operator *requires* the existence of a successor state (where $q$ holds, in this case), but this cannot happen at every state of the sequence because the last state does not have a successor!\n",
        "\n",
        "We can ask BLACK to interpret a formula over finite traces with the `--finite` option, and compare the two semantics:"
      ],
      "metadata": {
        "id": "9dZOlFrNjMlS"
      }
    },
    {
      "cell_type": "code",
      "source": [
        "!black solve -f 'G(X p)'"
      ],
      "metadata": {
        "id": "td0nOi3ajxl-"
      },
      "execution_count": null,
      "outputs": []
    },
    {
      "cell_type": "code",
      "source": [
        "!black solve --finite -f 'G(X p)'"
      ],
      "metadata": {
        "id": "RRrjeEVekCXu"
      },
      "execution_count": null,
      "outputs": []
    },
    {
      "cell_type": "markdown",
      "source": [
        "Often, in LTLf, we need to express the fact that something has to happen at the next state, but only *if it exists*. \n",
        "\n",
        "This is done with the *weak tomorrow* operator ($\\mathsf{\\widetilde{X}}$), as in:\n",
        "\n",
        "$$ \\mathsf{G}(\\mathsf{\\widetilde{X}} p) $$\n",
        "\n",
        "which is satisfiable in LTLf (and is equivalent to $\\widetilde{\\mathsf{X}}(\\mathsf{G} p)$). BLACK confirms:"
      ],
      "metadata": {
        "id": "_uuTKSDAlo6Z"
      }
    },
    {
      "cell_type": "code",
      "source": [
        "!black solve --finite -f 'G(wX p)'"
      ],
      "metadata": {
        "id": "RRmmomzRmiAL"
      },
      "execution_count": null,
      "outputs": []
    },
    {
      "cell_type": "markdown",
      "source": [
        "## Equivalence and validity\n",
        "\n",
        "If a formula is *unsatisfiable*, its negation is *valid*, that is, satisfied by *any model*. \n",
        "\n",
        "A formula can be checked for validity in BLACK by simply checking its negation. \n",
        "\n",
        "This is useful, among other things, to check *entailment* or *equivalence* between formulas. \n",
        "\n",
        "For example, $p\\mathbin{\\mathsf{U}} p$ is equivalent to $p$, and we can check it as follows:"
      ],
      "metadata": {
        "id": "uaojdjznmuhy"
      }
    },
    {
      "cell_type": "code",
      "source": [
        "!black solve -f '!(p <-> p U p)'"
      ],
      "metadata": {
        "id": "BIrEDOWtnQnG"
      },
      "execution_count": null,
      "outputs": []
    },
    {
      "cell_type": "markdown",
      "source": [
        "We can also check the equivalences mentioned in previous sections:"
      ],
      "metadata": {
        "id": "SVrzxvUGnYfE"
      }
    },
    {
      "cell_type": "code",
      "source": [
        "!black solve -f '!(G X p <-> X G p)'"
      ],
      "metadata": {
        "id": "6lfzTeZincWD"
      },
      "execution_count": null,
      "outputs": []
    },
    {
      "cell_type": "code",
      "source": [
        "!black solve --finite -f '!(G wX p <-> wX G p)'"
      ],
      "metadata": {
        "id": "tmhWiB8_ng-4"
      },
      "execution_count": null,
      "outputs": []
    },
    {
      "cell_type": "code",
      "source": [
        "!black solve -f '!(F((p_1 -> Y O(q_1)) & (p_2 -> Y O(q_2))) <-> (F(!p_1 & !p_2) | F(q_2 & X F !p_1) | F(q_1 && X F !p_2) | (F q_1 && F q_2)))'"
      ],
      "metadata": {
        "id": "5zYKgsC7s-jD"
      },
      "execution_count": null,
      "outputs": []
    },
    {
      "cell_type": "markdown",
      "metadata": {
        "id": "WJCpp0cdHbvn"
      },
      "source": [
        "## Unsatisfiable cores\n",
        "\n",
        "Consider this formula:\n",
        "\n",
        "$$ \\mathsf{G}(p \\land (q \\lor r \\to w)) \\land \\mathsf{F}(\\neg p \\land (\\neg q \\land r \\land w)) $$\n",
        "\n",
        "It seems complex. Let's start by asking BLACK if it is satisfiable:"
      ]
    },
    {
      "cell_type": "code",
      "execution_count": null,
      "metadata": {
        "id": "dfhx7FfLH7fT"
      },
      "outputs": [],
      "source": [
        "!black solve -f 'G(p & (q | r -> w)) & F(!p & (!q & r & w))'"
      ]
    },
    {
      "cell_type": "markdown",
      "metadata": {
        "id": "QRitdEyzICGp"
      },
      "source": [
        "It is unsatisfiable indeed.\n",
        "\n",
        "But, suppose this is a specification for a system you are designing, or the encoding of a *planning* problem that turns out to not have any solution.\n",
        "\n",
        "In these cases, you probably need to know *why* the formula is unsatisfiable. \n",
        "\n",
        "This further question can be often answered by extracting an *unsatisfiable core* for the formula, by using the `-c` option of BLACK:"
      ]
    },
    {
      "cell_type": "code",
      "execution_count": null,
      "metadata": {
        "id": "Z42tdjusIdm8"
      },
      "outputs": [],
      "source": [
        "!black solve -c -f 'G(p & (q | r -> w)) & F(!p & (!q & r & w))'"
      ]
    },
    {
      "cell_type": "markdown",
      "metadata": {
        "id": "i4fU_RTBIhS0"
      },
      "source": [
        "BLACK this time gave a more detailed output.\n",
        "\n",
        "The produced formula is an *unsatisfiable core* of the original one.\n",
        "\n",
        "It means that:\n",
        "1.  some subformulas ($q\\lor r\\to w$ and $\\neg q\\land r\\land w$) have been *replaced* by placeholders (`{0}` and `{1}`), but\n",
        "2.  the formula is still *unsatisfiable*.\n",
        "\n",
        "Indeed we can check the new formula is unsatisfiable with BLACK (the double braces are to escape them in Colab):"
      ]
    },
    {
      "cell_type": "code",
      "execution_count": null,
      "metadata": {
        "id": "Wvh6md66KWk3"
      },
      "outputs": [],
      "source": [
        "!black solve -f 'G(p & {{1}}) & F(!p & {{2}})'"
      ]
    },
    {
      "cell_type": "markdown",
      "metadata": {
        "id": "QYjo0bVdKVPi"
      },
      "source": [
        "\n",
        "\n",
        "This means the removed subformulas are not involved with the unsatisfiability and can be ignored.\n",
        "\n",
        "Indeed, the formula is much simpler now and why it is unsatisfiable is evident: we are requiring $p$ to always hold ($\\mathsf{G}(p)$) but also to be somewhere false ($\\mathsf{F}(\\neg p)$).\n",
        "\n",
        "BLACK finds always a *minimal unsatisfiable core*, that is, one that cannot be reduced further."
      ]
    },
    {
      "cell_type": "markdown",
      "metadata": {
        "id": "wIGoK4-d4mYu"
      },
      "source": [
        "## JSON output\n",
        "\n",
        "The above output is humanly readable, but if we had to pass BLACK's output to another piece of software for further processing, it would be hard to parse.\n",
        "\n",
        "For this reason, BLACK supports multiple output formats. The current supported ones are `readable` (the default, shown above) and `json`. You can choose the output format with the `-o` option:"
      ]
    },
    {
      "cell_type": "code",
      "execution_count": null,
      "metadata": {
        "id": "uwvmuo8s3iCg"
      },
      "outputs": [],
      "source": [
        "!black solve -o json -m -f 'p & G(q) & F(!p)'"
      ]
    },
    {
      "cell_type": "markdown",
      "source": [
        "The JSON output is available also when we ask for the *unsatisfiable cores*:"
      ],
      "metadata": {
        "id": "N8KHbQSsBmfO"
      }
    },
    {
      "cell_type": "code",
      "source": [
        "!black solve -o json -c -f 'G(p & (q | r -> w)) & F(!p & (!q & r & w))'"
      ],
      "metadata": {
        "id": "yuX43uu-BspX"
      },
      "execution_count": null,
      "outputs": []
    },
    {
      "cell_type": "markdown",
      "metadata": {
        "id": "ZcID4pSlFjjh"
      },
      "source": [
        "## Trace checking\n",
        "\n",
        "Thanks to the JSON output, BLACK can *read back* its own output to check its correctness. \n",
        "\n",
        "The `black check` command can read the output of the `black solve` command and check if the produced model is correct for the given formula. This is handy to do with a shell pipe.\n",
        "\n",
        "For example:"
      ]
    },
    {
      "cell_type": "code",
      "execution_count": null,
      "metadata": {
        "id": "bPYu40rGF0Sa"
      },
      "outputs": [],
      "source": [
        "!black solve -o json -m -f 'p & X p & (q U !p)' | black check -t - -f 'p & X p & (q U !p)'"
      ]
    },
    {
      "cell_type": "markdown",
      "metadata": {
        "id": "zLWTk6-PGDzn"
      },
      "source": [
        "The `-t` option tells the second BLACK command where to find the trace (the model) to check. \n",
        "\n",
        "In this case, `-t -` means to read from the standard input (that comes from the pipe).\n",
        "\n",
        "The output should always be `TRUE`, meaning that the produced model is indeed correct for the formula. \n",
        "\n",
        "A `FALSE` output would mean we spotted a bug in the solver!"
      ]
    },
    {
      "cell_type": "markdown",
      "metadata": {
        "id": "cvqol8HiMiv9"
      },
      "source": [
        "## Playground\n",
        "\n",
        "The following form calls BLACK's command line interface with all the options seen so far. Have fun!"
      ]
    },
    {
      "cell_type": "code",
      "execution_count": null,
      "metadata": {
        "id": "4ZJbjpzNMiKg",
        "cellView": "form"
      },
      "outputs": [],
      "source": [
        "#@title  { run: \"auto\" }\n",
        "#@markdown BLACK command-line playground\n",
        "formula = \"!( (p U q) \\u003C-> F(wX False & O(q & Z H p)) )\" #@param {type:\"string\"}\n",
        "finite = True #@param {type:\"boolean\"}\n",
        "model = True #@param {type:\"boolean\"}\n",
        "core = True #@param {type:\"boolean\"}\n",
        "json = False #@param {type:\"boolean\"}\n",
        "check_trace = False #@param {type:\"boolean\"}\n",
        "\n",
        "!black solve \\\n",
        "  {\"-m\" if model or check_trace else \"\"} \\\n",
        "  {\"--finite\" if finite else \"\"} \\\n",
        "  {\"-c\" if core else \"\"} \\\n",
        "  {\"-o json\" if json or check_trace else \"\"} \\\n",
        "  -f '{formula}' \\\n",
        "  {(\"| black check -t - -f '\" + formula + \"' \" + (\"--finite\" if finite else \"\")) if check_trace else \"\"}\n",
        "\n",
        "\n",
        "\n"
      ]
    },
    {
      "cell_type": "markdown",
      "source": [
        "# Python API"
      ],
      "metadata": {
        "id": "zhMZzjGcP9fR"
      }
    },
    {
      "cell_type": "markdown",
      "source": [
        "The command-line tool we explored so far is only a thin wrapper over BLACK's C++ library, which provides a comprehensive API for creating, manipulating and reasoning about temporal logic formulas. \n",
        "\n",
        "Here we will explore the basics of BLACK's API through its Python interface. \n",
        "\n",
        "Doing so, we will also explore some features of BLACK that are not fully available through the command-line interface (yet).\n",
        "\n",
        "**Warning**: the Python bindings are work-in-progress and yet unreleased, so you are getting a live preview!"
      ],
      "metadata": {
        "id": "j3d7o48LQavb"
      }
    },
    {
      "cell_type": "markdown",
      "source": [
        "## Creating formulas\n",
        "\n",
        "A formula is the central kind of objects in BLACK's API. To create one, we need first to create its *alphabet*, that is, the collection of the symbols the formula talks about. \n",
        "\n",
        "This is done by instantiating an object of type `alphabet`. Since in formal texts the alphabet is usually called $\\Sigma$, we will call the `alphabet` object `sigma`."
      ],
      "metadata": {
        "id": "zBRV42krNsIi"
      }
    },
    {
      "cell_type": "code",
      "source": [
        "sigma = alphabet()"
      ],
      "metadata": {
        "id": "rgk4ddlLOMrt"
      },
      "execution_count": null,
      "outputs": []
    },
    {
      "cell_type": "markdown",
      "source": [
        "Before constructing a formula, we have to ask the alphabet for the symbols that will be used in the formula. \n",
        "\n",
        "For an LTL formulas, the basic symbols are `proposition`s."
      ],
      "metadata": {
        "id": "G0X09aUhOSLC"
      }
    },
    {
      "cell_type": "code",
      "source": [
        "p = sigma.proposition(\"p\")\n",
        "q = sigma.proposition(\"q\")"
      ],
      "metadata": {
        "id": "jz7e1C5tOa6u"
      },
      "execution_count": null,
      "outputs": []
    },
    {
      "cell_type": "markdown",
      "source": [
        "Now we can finally construct a formula. BLACK's Python module overloads the majority of operators to make the formula construction syntax as smooth as possible. \n",
        "\n",
        "For example:"
      ],
      "metadata": {
        "id": "uhyyHN-wOe4g"
      }
    },
    {
      "cell_type": "code",
      "source": [
        "f = p & G(q) & F(~p)\n",
        "print(f)"
      ],
      "metadata": {
        "id": "zdSJmSCIOoSs"
      },
      "execution_count": null,
      "outputs": []
    },
    {
      "cell_type": "markdown",
      "source": [
        "Formulas can also be *parsed* from strings, that can come from text files or from anywhere.\n",
        "\n",
        "This can be done with the `parse_formula` function, which accepts the `alphabet` object and a string, and returns the parsed formula, or `None` if some syntax error was found:"
      ],
      "metadata": {
        "id": "94ev1oWrPUJd"
      }
    },
    {
      "cell_type": "code",
      "source": [
        "g = parse_formula(sigma, \"p & G q & F !p\")\n",
        "assert g is not None\n",
        "print(g)"
      ],
      "metadata": {
        "id": "uldhjhCzPeYe"
      },
      "execution_count": null,
      "outputs": []
    },
    {
      "cell_type": "markdown",
      "source": [
        "## Manipulating formulas\n",
        "\n",
        "Formulas can be compared for equality in BLACK's API.\n",
        "\n",
        "The comparison is:\n",
        "1.   **syntactic**: the syntax of the formulas is compared, not the identity of the objects\n",
        "2.   **fast**: the comparison does not recursively descends the formulas. Under the hood, equal formulas are represented by the same object, so we just compare pointers\n",
        "\n",
        "So we can confirm that `f` and `g` are actually the same formula:"
      ],
      "metadata": {
        "id": "hvxQddgyP9iY"
      }
    },
    {
      "cell_type": "code",
      "source": [
        "assert f == g"
      ],
      "metadata": {
        "id": "8Gx80EKKQatA"
      },
      "execution_count": null,
      "outputs": []
    },
    {
      "cell_type": "markdown",
      "source": [
        "Now that we have a formula, we can inspect it.\n",
        "\n",
        "Each different logical or temporal operator corresponds to a different object type. \n",
        "\n",
        "In this case, `f` is of type `conjunction`, and we can access its left and right operands with aptly named properties:"
      ],
      "metadata": {
        "id": "gIaSZT3uRVqd"
      }
    },
    {
      "cell_type": "code",
      "source": [
        "assert isinstance(f, conjunction)\n",
        "print(f\"left operand: {f.left}\")\n",
        "print(f\"right operand: {f.right}\")"
      ],
      "metadata": {
        "id": "6ZY57I00Rh_S"
      },
      "execution_count": null,
      "outputs": []
    },
    {
      "cell_type": "markdown",
      "source": [
        "The right operand consists of two nested unary operators (`F` and `!`).\n",
        "\n",
        "So, for example, to get the `proposition` inside them, we can do:"
      ],
      "metadata": {
        "id": "d4TxaY2ISGYf"
      }
    },
    {
      "cell_type": "code",
      "source": [
        "print(f.right.argument.argument)"
      ],
      "metadata": {
        "id": "6gPakHx3SUR6"
      },
      "execution_count": null,
      "outputs": []
    },
    {
      "cell_type": "markdown",
      "source": [
        "With these building blocks we can manipulate the formulas in many ways.\n",
        "\n",
        "Indeed, the whole BLACK solver is built by manipulating formulas with (the C++ version of) this API."
      ],
      "metadata": {
        "id": "ZvN33XCmSzNN"
      }
    },
    {
      "cell_type": "markdown",
      "source": [
        "## Invoking the solver\n",
        "\n",
        "Once we have the formula, we may want to check its satisfiability.\n",
        "\n",
        "For that, we need an instance of the `solver` class."
      ],
      "metadata": {
        "id": "J8SGo2j5X1gJ"
      }
    },
    {
      "cell_type": "code",
      "source": [
        "slv = solver()"
      ],
      "metadata": {
        "id": "kfZcvG-1YFqa"
      },
      "execution_count": null,
      "outputs": []
    },
    {
      "cell_type": "markdown",
      "source": [
        "To solve the formula we can call the `solve` method of `solver`.\n",
        "\n",
        "It accepts:\n",
        "1.   an object of type `scope`. Let's set it aside for now, we'll understand later what its purpose is;\n",
        "2.   the formula to solve\n",
        "3.   an optional `finite` parameter of type `Bool` that tells whether we want to interpret the formula over finite (`True`) or infinite (`False`) traces.\n",
        "\n",
        "For example, suppose we want to solve `f` over finite traces:"
      ],
      "metadata": {
        "id": "FZDdv4RDYWRH"
      }
    },
    {
      "cell_type": "code",
      "source": [
        "xi = scope(sigma)\n",
        "slv.solve(xi, f, True)"
      ],
      "metadata": {
        "id": "schNfktvYoej"
      },
      "execution_count": null,
      "outputs": []
    },
    {
      "cell_type": "markdown",
      "source": [
        "## Inspecting the model\n",
        "\n",
        "Now that the solver found that the formula is satisfiable, we can access its model. \n",
        "\n",
        "This is done with the `model` property and its `size` and `value()` accessors."
      ],
      "metadata": {
        "id": "Hd9Hyi5lZ1vv"
      }
    },
    {
      "cell_type": "code",
      "source": [
        "print(f\"Model size: {slv.model.size}\")\n",
        "\n",
        "for t in range(slv.model.size):\n",
        "  for prop in [p,q]:\n",
        "    print(f\"{prop} at t = {t} is {slv.model.value(prop, t)}\")"
      ],
      "metadata": {
        "id": "zj6qLLuncdcw"
      },
      "execution_count": null,
      "outputs": []
    },
    {
      "cell_type": "markdown",
      "source": [
        "## LTL modulo theories\n",
        "\n",
        "Sometimes, propositions are not enough to model a given property or system.\n",
        "\n",
        "In these cases, BLACK can deal with an extension of LTL called *LTL modulo theories*, where propositions are replaced by general *first-order sentences* interpreted over arbitrary theory, *à la* SMT.\n",
        "\n",
        "Let's see how these formulas can be built."
      ],
      "metadata": {
        "id": "MNBIlQfmettH"
      }
    },
    {
      "cell_type": "markdown",
      "source": [
        "### Creating formulas\n",
        "\n",
        "To start, we need some *variables*. Let's ask for them to the alphabet."
      ],
      "metadata": {
        "id": "10nWgOl2qRli"
      }
    },
    {
      "cell_type": "code",
      "source": [
        "x = sigma.variable(\"x\")\n",
        "y = sigma.variable(\"y\")"
      ],
      "metadata": {
        "id": "sn9FtyB-fx9o"
      },
      "execution_count": null,
      "outputs": []
    },
    {
      "cell_type": "markdown",
      "source": [
        "Instantiating the variables in not enough, we need also to decide their *sort* (or *type*). \n",
        "\n",
        "Let's say these two variables are integers. We declare them as such to the `scope` object we created before."
      ],
      "metadata": {
        "id": "kdmjOG7cf1cG"
      }
    },
    {
      "cell_type": "code",
      "source": [
        "xi.declare(x, sigma.integer_sort())\n",
        "xi.declare(y, sigma.integer_sort())"
      ],
      "metadata": {
        "id": "B-iimVJ6gAl2"
      },
      "execution_count": null,
      "outputs": []
    },
    {
      "cell_type": "markdown",
      "source": [
        "Now let's say we want both `x` and `y` to start at zero, and we want them to reach a value greater than 10 while `x` remains always the double of `y`.\n",
        "\n",
        "Such a formula looks like this:\n",
        "\n",
        "$$ x = 0 \\land y = 0 \\land \\mathsf{G}(x = 2y) \\land \\mathsf{F}(y > 10) $$\n",
        "\n",
        "We can build it with BLACK's API as follows:"
      ],
      "metadata": {
        "id": "Poo7rWnJgPq-"
      }
    },
    {
      "cell_type": "code",
      "source": [
        "f = (x == 0) & (y == 0) & G(x == 2 * y) & F(y > 10)\n",
        "print(f)"
      ],
      "metadata": {
        "id": "-rP5D7o3gf7C"
      },
      "execution_count": null,
      "outputs": []
    },
    {
      "cell_type": "markdown",
      "source": [
        "### Look-aheads\n",
        "\n",
        "Now, what if we want the variables to *increase* at each step?\n",
        "\n",
        "Then we have to tie their value at each time to their value at the next one.\n",
        "\n",
        "This can be done with the *look-ahead* ($\\mathsf{next}$) and *weak look-ahead* ($\\mathsf{wnext}$), which are used as:\n",
        "\n",
        "$$ x = 0 \\land y = 0 \\land \\mathsf{G}(\\mathsf{wnext}(x) > x \\land x = 2y) \\land \\mathsf{F}(y > 10) $$\n",
        "\n",
        "Note that LTL modulo theories formulas are always interpreted over *finite traces*, hence the difference between the strong and weak look-aheads, much like the difference between the strong and weak *tomorrow* operators that we have seen before. \n",
        "\n",
        "The new formulas can be built as follows:"
      ],
      "metadata": {
        "id": "CMCBLV7Dn3uX"
      }
    },
    {
      "cell_type": "code",
      "source": [
        "f = (x == 0) & (y == 0) & G((wnext(x) > x) & (x == 2*y)) & F(y > 10)\n",
        "print(f)"
      ],
      "metadata": {
        "id": "-84QUud3p5H9"
      },
      "execution_count": null,
      "outputs": []
    },
    {
      "cell_type": "markdown",
      "source": [
        "### Solving the formulas\n",
        "\n",
        "To solve this new formula, we proceed as before. But this time, it is better to first check for the *type correctness* of the formula. \n",
        "\n",
        "We can ask the `scope` to perform this check:"
      ],
      "metadata": {
        "id": "R5IQqfs4nFrH"
      }
    },
    {
      "cell_type": "code",
      "source": [
        "def report(str):\n",
        "  print(f\"Type error: {str}\")\n",
        "\n",
        "assert xi.type_check(f, report)"
      ],
      "metadata": {
        "id": "cRUl10V6nFCb"
      },
      "execution_count": null,
      "outputs": []
    },
    {
      "cell_type": "markdown",
      "source": [
        "So everything's alright, but before proceeding, we have to pay attention. \n",
        "\n",
        "LTL modulo theories is in general *undecidable*, and only *semi-decidable*, so BLACK can reliably terminate only on *satisfiable* instances. \n",
        "\n",
        "If we come across an unsatisfiable instance and the solving takes too much time, we can stop the computation using the Notebook's stop button.\n",
        "\n",
        "That said, the solver can be invoked as always, ensuring we ask for the *finite-trace* semantics:"
      ],
      "metadata": {
        "id": "Hzxpp9dcay70"
      }
    },
    {
      "cell_type": "code",
      "source": [
        "slv.solve(xi, f, True)"
      ],
      "metadata": {
        "id": "9-pwipFcndXx"
      },
      "execution_count": null,
      "outputs": []
    },
    {
      "cell_type": "markdown",
      "source": [
        "The formula is satisfiable indeed, so we can access its model.\n",
        "\n"
      ],
      "metadata": {
        "id": "L4Uw0PmQnj0Y"
      }
    },
    {
      "cell_type": "code",
      "source": [
        "assert slv.model is not None\n",
        "slv.model.size"
      ],
      "metadata": {
        "id": "Od-Xf05Q6Pb4"
      },
      "execution_count": null,
      "outputs": []
    },
    {
      "cell_type": "markdown",
      "source": [
        "It is not possible to directly extract the value of the variables from the model (yet, stay tuned), but it is possible to test the truth of any predicate.\n",
        "\n",
        "So for example, we may ask whether $x$ is actually the double of $y$ at time step $1$."
      ],
      "metadata": {
        "id": "BeSkPbV56Oha"
      }
    },
    {
      "cell_type": "code",
      "source": [
        "slv.model.value(x == 2 * y, 1)"
      ],
      "metadata": {
        "id": "FQI55Vhe6X0X"
      },
      "execution_count": null,
      "outputs": []
    },
    {
      "cell_type": "markdown",
      "source": [
        "### Uninterpreted predicates\n",
        "\n",
        "LTL modulo theories supports integer and real arithmetic, also combined with *uninterpreted predicates*, that is, $n$-ary predicates over arbitrary sorts that do not have a predefined meaning (in contrast to, say, the $<$ predicate, which is always interpreted as the arithmetic comparison).\n",
        "\n",
        "To declare a predicate we can ask for its symbol from the `alphabet`, and then declare its arity and domain to the `scope`:"
      ],
      "metadata": {
        "id": "jwOn6BTz8C1o"
      }
    },
    {
      "cell_type": "code",
      "source": [
        "r = sigma.relation(\"r\")\n",
        "\n",
        "integer = sigma.integer_sort()\n",
        "xi.declare(r, [integer, integer, integer], scope.rigid)"
      ],
      "metadata": {
        "id": "FhOp0_Yc82u2"
      },
      "execution_count": null,
      "outputs": []
    },
    {
      "cell_type": "markdown",
      "source": [
        "Here we have declared a ternary predicate $r$ over integer numbers. \n",
        "\n",
        "The `scope.rigid` option means that the predicate does *not* evolve in time.\n",
        "\n",
        "Now, we want to model the fact if $r(x, y, z)$ holds, then $z$ is included in the interval $(x,y)$.\n",
        "\n",
        "This can be done as:\n",
        "\n",
        "$$ \\forall x : \\mathsf{Int}, y : \\mathsf{Int}, z : \\mathsf{Int} \\,\\, r(x, y, z) \\to (x < z \\land z < y)$$\n",
        "\n",
        "and we can build this formula in BLACK as follows:"
      ],
      "metadata": {
        "id": "GX91SHDB9Eq1"
      }
    },
    {
      "cell_type": "code",
      "source": [
        "z = sigma.variable(\"z\")\n",
        "\n",
        "f = forall([x[integer], y[integer], z[integer]], implies(r(x, y, z), (x < z) & (z < y)))\n",
        "print(f)"
      ],
      "metadata": {
        "id": "tQQ0Hz9e-D5Z"
      },
      "execution_count": null,
      "outputs": []
    },
    {
      "cell_type": "markdown",
      "source": [
        "This is kind of an axiom for our $r$ relation. The formula itself is trivial to satisfy, by negating the antecedent of the implication. \n",
        "\n",
        "Rather, the interesting question is whether BLACK can enforce the axiom.\n",
        "\n",
        "So let's see if the formula is consistent with the fact $r(3, 6, 10)$ (spoiler: it's not):"
      ],
      "metadata": {
        "id": "vot-8mxs-7jg"
      }
    },
    {
      "cell_type": "code",
      "source": [
        "print(slv.solve(xi, f & r(3, 6, 10), True))"
      ],
      "metadata": {
        "id": "V1B4GtAR_BGj"
      },
      "execution_count": null,
      "outputs": []
    },
    {
      "cell_type": "markdown",
      "source": [
        "Indeed. Now we can combine this axiom with any temporal operator of LTL modulo theories. For example:"
      ],
      "metadata": {
        "id": "joxQ5XWCQJYv"
      }
    },
    {
      "cell_type": "code",
      "source": [
        "g = (x == 0) & (y == 2) & G(r(x, y, z) & (wnext(z) == z + 1)) & F(z == 10)\n",
        "print(g)"
      ],
      "metadata": {
        "id": "ZnV-xM9Sdu73"
      },
      "execution_count": null,
      "outputs": []
    },
    {
      "cell_type": "markdown",
      "source": [
        "This initializes $x=0$ and $y=2$, and increments the variable $z$ at each step, while requiring $r(x,y,z)$ to hold, stopping when $z = 10$. \n",
        "\n",
        "Hence, to satisfy the above axiom, $z$ should start at $1$, and by the end of the trace, $y$ should be at least $11$. \n",
        "\n",
        "Let's see if BLACK agrees."
      ],
      "metadata": {
        "id": "BqE5gVVcyFhj"
      }
    },
    {
      "cell_type": "code",
      "source": [
        "xi.declare(x, integer)\n",
        "xi.declare(y, integer)\n",
        "xi.declare(z, integer)\n",
        "\n",
        "assert xi.type_check(f & g, report)\n",
        "\n",
        "assert slv.solve(xi, f & g, True)\n",
        "assert slv.model is not None\n",
        "\n",
        "last = slv.model.size - 1\n",
        "print(f\"Model size: {slv.model.size}\")\n",
        "print(f\"z == 1 at t = 0: {slv.model.value(z == 1, 0)}\")\n",
        "print(f\"y >= 11 at t = {last}: {slv.model.value(y >= 11, last)}\")"
      ],
      "metadata": {
        "id": "TJMSk7fCyevT"
      },
      "execution_count": null,
      "outputs": []
    },
    {
      "cell_type": "markdown",
      "source": [
        "Everything as expected!"
      ],
      "metadata": {
        "id": "8-72Ob9ilEqb"
      }
    },
    {
      "cell_type": "markdown",
      "source": [
        "# Conclusions\n",
        "\n",
        "So we explored many functionalities of BLACK and its APIs.\n",
        "\n",
        "BLACK may be not as full-featured as nuXmv or SPOT, but is growing and taking up its space in the temporal reasoning landscape.\n",
        "\n",
        "A few things are missing from this overview:\n",
        "1.   uninterpreted and enumerated sorts in LTL modulo theories\n",
        "2.   more formulas manipulation facilities\n",
        "3.   the SAT/SMT solvers backend abstraction layer\n",
        "4.   the C++ API\n",
        "\n",
        "For any question, even after the AAAI lab will be ended, feel free to write to us.\n",
        "\n",
        "Enjoy the rest of the conference!\n",
        "\n",
        "Nicola and Luca"
      ],
      "metadata": {
        "id": "PcPlExSwksRw"
      }
    }
  ],
  "metadata": {
    "colab": {
      "provenance": [],
      "private_outputs": true
    },
    "kernelspec": {
      "display_name": "Python 3",
      "name": "python3"
    },
    "language_info": {
      "name": "python"
    },
    "gpuClass": "standard"
  },
  "nbformat": 4,
  "nbformat_minor": 0
}